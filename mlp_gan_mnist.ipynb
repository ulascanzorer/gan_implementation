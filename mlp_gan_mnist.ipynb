{
 "cells": [
  {
   "cell_type": "code",
   "execution_count": 1,
   "metadata": {},
   "outputs": [],
   "source": [
    "import torch\n",
    "import torch.nn as nn\n",
    "import torchvision\n",
    "import torchvision.transforms as transforms\n",
    "import matplotlib.pyplot as plt\n",
    "import numpy as np"
   ]
  },
  {
   "cell_type": "code",
   "execution_count": 2,
   "metadata": {},
   "outputs": [],
   "source": [
    "# device config\n",
    "device = torch.device(\"cuda\" if torch.cuda.is_available() else \"cpu\")"
   ]
  },
  {
   "cell_type": "code",
   "execution_count": 3,
   "metadata": {},
   "outputs": [],
   "source": [
    "# general hyper parameters\n",
    "num_epochs = 50\n",
    "batch_size = 64\n",
    "learning_rate = 1e-4\n",
    "image_size = 784    # 28 * 28"
   ]
  },
  {
   "cell_type": "code",
   "execution_count": 4,
   "metadata": {},
   "outputs": [],
   "source": [
    "# hyper parameters for the discriminator\n",
    "d_hidden_size = 128\n",
    "d_ksteps = 1"
   ]
  },
  {
   "cell_type": "code",
   "execution_count": 5,
   "metadata": {},
   "outputs": [],
   "source": [
    "# hyper parameters for the generator\n",
    "latent_dim = 128\n",
    "g_hidden_size = 256"
   ]
  },
  {
   "cell_type": "code",
   "execution_count": 8,
   "metadata": {},
   "outputs": [],
   "source": [
    "# Get the MNIST dataset\n",
    "transform = transforms.Compose(\n",
    "    [transforms.ToTensor(),\n",
    "    transforms.Normalize((0.5), (0.5))])\n",
    "\n",
    "\n",
    "mnist_train_dataset = torchvision.datasets.MNIST(root=\"./data\", train=True, transform=transform, download=True)\n",
    "\n",
    "# TODO test_dataset\n",
    "\n",
    "mnist_train_loader = torch.utils.data.DataLoader(dataset=mnist_train_dataset, batch_size=batch_size, shuffle=False)\n",
    "\n",
    "# TODO test_loader"
   ]
  },
  {
   "cell_type": "code",
   "execution_count": 9,
   "metadata": {},
   "outputs": [
    {
     "data": {
      "image/png": "[encoded data removed]",
      "text/plain": [
       "<Figure size 640x480 with 1 Axes>"
      ]
     },
     "metadata": {},
     "output_type": "display_data"
    }
   ],
   "source": [
    "dataiter = iter(mnist_train_loader)\n",
    "images, labels = next(dataiter)\n",
    "image = np.array(images[0], dtype=\"float\")\n",
    "image = image / 2 + 0.5\n",
    "pixels = image.reshape((28, 28))\n",
    "plt.imshow(pixels, cmap=\"gray\")\n",
    "plt.show()"
   ]
  },
  {
   "cell_type": "code",
   "execution_count": 10,
   "metadata": {},
   "outputs": [],
   "source": [
    "# Define the discriminator, returns a value between 0 and 1, a possibility.\n",
    "class Discriminator(nn.Module):\n",
    "    def __init__(self, input_size, hidden_size):\n",
    "        super().__init__()\n",
    "        self.disc = nn.Sequential(\n",
    "            nn.Linear(input_size, hidden_size),\n",
    "            # nn.LeakyReLU(0.01),\n",
    "            # nn.Linear(hidden_size, hidden_size),\n",
    "            # nn.Tanh(),\n",
    "            # nn.Linear(hidden_size, hidden_size),\n",
    "            nn.LeakyReLU(0.01),\n",
    "            nn.Linear(hidden_size, 1),\n",
    "            nn.Dropout(0.2),\n",
    "            nn.Sigmoid(),\n",
    "        )\n",
    "        # self.l1 = nn.Linear(input_size, hidden_size)\n",
    "        # self.relu = nn.ReLU()\n",
    "        # self.l2 = nn.Linear(hidden_size, hidden_size)\n",
    "        # self.l3 = nn.Linear(hidden_size, 1)\n",
    "        # self.sigmoid = nn.Sigmoid()\n",
    "\n",
    "    def forward(self, x):\n",
    "        out = self.disc(x)\n",
    "        # out = self.l1(x)\n",
    "        # out = self.relu(out)\n",
    "        # out = self.l2(out)\n",
    "        # out = self.relu(out)\n",
    "        # out = self.l3(out)\n",
    "        # out = self.sigmoid(out)\n",
    "        return out"
   ]
  },
  {
   "cell_type": "code",
   "execution_count": 12,
   "metadata": {},
   "outputs": [],
   "source": [
    "# Define the generator, returns a tensor with shape (3, 32, 32)\n",
    "class Generator(nn.Module):\n",
    "    def __init__(self, latent_dim, hidden_size):\n",
    "        super().__init__()\n",
    "        self.gen = nn.Sequential(\n",
    "            nn.Linear(latent_dim, hidden_size),\n",
    "            nn.LeakyReLU(0.01),\n",
    "            nn.Linear(hidden_size, image_size),\n",
    "            nn.Tanh(),      \n",
    "        )\n",
    "        # self.l1 = nn.Linear(latent_dim_size, hidden_size)\n",
    "        # self.relu = nn.ReLU()\n",
    "        # self.tanh = nn.Tanh()\n",
    "        # self.l2 = nn.Linear(hidden_size, int(d_input_size / 2))\n",
    "        # self.l3 = nn.Linear(int(d_input_size / 2), d_input_size)\n",
    "\n",
    "    def forward(self, z):\n",
    "        out = self.gen(z)\n",
    "        # out = self.l1(z)\n",
    "        # out = self.tanh(out)\n",
    "        # out = self.l2(out)\n",
    "        # out = self.tanh(out)\n",
    "        # out = self.l3(out)\n",
    "        # out = self.tanh(out)\n",
    "        return out\n",
    "        "
   ]
  },
  {
   "cell_type": "code",
   "execution_count": 14,
   "metadata": {},
   "outputs": [],
   "source": [
    "# Create the generator, the discriminator, their respective optimizers and loss criterion\n",
    "generator = Generator(latent_dim, g_hidden_size).to(device)\n",
    "\n",
    "discriminator = Discriminator(image_size, d_hidden_size).to(device)\n",
    "\n",
    "genopt = torch.optim.Adam(generator.parameters(), lr=learning_rate)\n",
    "\n",
    "discopt = torch.optim.Adam(discriminator.parameters(), lr=learning_rate)\n",
    "\n",
    "criterion = nn.BCELoss()"
   ]
  },
  {
   "cell_type": "code",
   "execution_count": 15,
   "metadata": {},
   "outputs": [
    {
     "name": "stdout",
     "output_type": "stream",
     "text": [
      "epoch 1 / 50, step 100 / 938, gen_loss = 0.6802, disc_loss = 0.4747\n",
      "epoch 1 / 50, step 200 / 938, gen_loss = 0.6860, disc_loss = 0.5358\n",
      "epoch 1 / 50, step 300 / 938, gen_loss = 0.9066, disc_loss = 0.4704\n",
      "epoch 1 / 50, step 400 / 938, gen_loss = 0.7678, disc_loss = 0.4847\n",
      "epoch 1 / 50, step 500 / 938, gen_loss = 0.6849, disc_loss = 0.6024\n",
      "torch.Size([1, 784])\n",
      "tensor([[0.5327]], device='cuda:0', grad_fn=<SigmoidBackward0>)\n"
     ]
    },
    {
     "data": {
      "image/png": "[encoded data removed]",
      "text/plain": [
       "<Figure size 640x480 with 1 Axes>"
      ]
     },
     "metadata": {},
     "output_type": "display_data"
    },
    {
     "name": "stdout",
     "output_type": "stream",
     "text": [
      "epoch 1 / 50, step 600 / 938, gen_loss = 0.7395, disc_loss = 0.5197\n",
      "epoch 1 / 50, step 700 / 938, gen_loss = 0.8739, disc_loss = 0.4953\n",
      "epoch 1 / 50, step 800 / 938, gen_loss = 0.7780, disc_loss = 0.5526\n",
      "epoch 1 / 50, step 900 / 938, gen_loss = 0.8640, disc_loss = 0.5223\n",
      "epoch 2 / 50, step 100 / 938, gen_loss = 0.8489, disc_loss = 0.5391\n",
      "epoch 2 / 50, step 200 / 938, gen_loss = 0.6979, disc_loss = 0.6728\n",
      "epoch 2 / 50, step 300 / 938, gen_loss = 0.7185, disc_loss = 0.6144\n",
      "epoch 2 / 50, step 400 / 938, gen_loss = 0.6817, disc_loss = 0.6815\n",
      "epoch 2 / 50, step 500 / 938, gen_loss = 0.9022, disc_loss = 0.5306\n",
      "torch.Size([1, 784])\n",
      "tensor([[0.1933]], device='cuda:0', grad_fn=<SigmoidBackward0>)\n"
     ]
    },
    {
     "data": {
      "image/png": "[encoded data removed]",
      "text/plain": [
       "<Figure size 640x480 with 1 Axes>"
      ]
     },
     "metadata": {},
     "output_type": "display_data"
    },
    {
     "name": "stdout",
     "output_type": "stream",
     "text": [
      "epoch 2 / 50, step 600 / 938, gen_loss = 0.9903, disc_loss = 0.5208\n",
      "epoch 2 / 50, step 700 / 938, gen_loss = 0.6435, disc_loss = 0.6851\n",
      "epoch 2 / 50, step 800 / 938, gen_loss = 0.9121, disc_loss = 0.5425\n",
      "epoch 2 / 50, step 900 / 938, gen_loss = 0.8359, disc_loss = 0.6146\n",
      "epoch 3 / 50, step 100 / 938, gen_loss = 0.8122, disc_loss = 0.5765\n",
      "epoch 3 / 50, step 200 / 938, gen_loss = 0.8895, disc_loss = 0.5712\n",
      "epoch 3 / 50, step 300 / 938, gen_loss = 0.9130, disc_loss = 0.4581\n",
      "epoch 3 / 50, step 400 / 938, gen_loss = 1.0262, disc_loss = 0.4504\n",
      "epoch 3 / 50, step 500 / 938, gen_loss = 0.7409, disc_loss = 0.6812\n",
      "torch.Size([1, 784])\n",
      "tensor([[0.3613]], device='cuda:0', grad_fn=<SigmoidBackward0>)\n"
     ]
    },
    {
     "data": {
      "image/png": "[encoded data removed]",
      "text/plain": [
       "<Figure size 640x480 with 1 Axes>"
      ]
     },
     "metadata": {},
     "output_type": "display_data"
    },
    {
     "name": "stdout",
     "output_type": "stream",
     "text": [
      "epoch 3 / 50, step 600 / 938, gen_loss = 0.9334, disc_loss = 0.4999\n",
      "epoch 3 / 50, step 700 / 938, gen_loss = 0.8768, disc_loss = 0.5665\n",
      "epoch 3 / 50, step 800 / 938, gen_loss = 0.6767, disc_loss = 0.7072\n",
      "epoch 3 / 50, step 900 / 938, gen_loss = 0.8204, disc_loss = 0.5561\n",
      "epoch 4 / 50, step 100 / 938, gen_loss = 0.7728, disc_loss = 0.6665\n",
      "epoch 4 / 50, step 200 / 938, gen_loss = 0.8896, disc_loss = 0.5600\n",
      "epoch 4 / 50, step 300 / 938, gen_loss = 0.6801, disc_loss = 0.6814\n",
      "epoch 4 / 50, step 400 / 938, gen_loss = 0.7214, disc_loss = 0.6453\n",
      "epoch 4 / 50, step 500 / 938, gen_loss = 0.7851, disc_loss = 0.6163\n",
      "torch.Size([1, 784])\n",
      "tensor([[0.4903]], device='cuda:0', grad_fn=<SigmoidBackward0>)\n"
     ]
    },
    {
     "data": {
      "image/png": "[encoded data removed]",
      "text/plain": [
       "<Figure size 640x480 with 1 Axes>"
      ]
     },
     "metadata": {},
     "output_type": "display_data"
    },
    {
     "name": "stdout",
     "output_type": "stream",
     "text": [
      "epoch 4 / 50, step 600 / 938, gen_loss = 0.8802, disc_loss = 0.6135\n",
      "epoch 4 / 50, step 700 / 938, gen_loss = 0.7554, disc_loss = 0.7093\n",
      "epoch 4 / 50, step 800 / 938, gen_loss = 1.1666, disc_loss = 0.4371\n",
      "epoch 4 / 50, step 900 / 938, gen_loss = 0.7185, disc_loss = 0.6692\n",
      "epoch 5 / 50, step 100 / 938, gen_loss = 0.8463, disc_loss = 0.6128\n",
      "epoch 5 / 50, step 200 / 938, gen_loss = 0.7881, disc_loss = 0.5856\n",
      "epoch 5 / 50, step 300 / 938, gen_loss = 0.8152, disc_loss = 0.6414\n"
     ]
    }
   ],
   "source": [
    "# Training the models\n",
    "n_total_steps = len(mnist_train_loader)\n",
    "for epoch in range(num_epochs):\n",
    "    for i, (real, labels) in enumerate(mnist_train_loader):\n",
    "        # Sample minibatch of batch_size noise samples\n",
    "        z = torch.randn(batch_size, latent_dim).to(device)\n",
    "\n",
    "        real.to(device)\n",
    "\n",
    "        # Train the generator\n",
    "\n",
    "        # forward pass\n",
    "        generator_output = generator(z)\n",
    "        discriminator_output = discriminator(generator_output)\n",
    "        gen_loss = -(discriminator_output.log()).mean(0)\n",
    "        # best loss = 0, pretty bad loss = 0.7\n",
    "        #one_minus = torch.ones_like(discriminator_output) - discriminator_output\n",
    "        #gen_loss = (one_minus.log()).mean(0)\n",
    "\n",
    "\n",
    "        # backward pass\n",
    "        genopt.zero_grad()\n",
    "        gen_loss.backward()\n",
    "        genopt.step()\n",
    "\n",
    "        \n",
    "        # Train the discriminator\n",
    "        discriminator.train()   # enable dropout\n",
    "\n",
    "        z = torch.randn(batch_size, latent_dim).to(device)\n",
    "\n",
    "        # forward pass\n",
    "        first_probs = discriminator(real.view(real.shape[0], -1).to(device))\n",
    "        #print(\"first_probs shape: \", first_probs.shape)\n",
    "        generator_output = generator(z)\n",
    "        discriminator_output = discriminator(generator_output)\n",
    "        second_probs = torch.ones_like(discriminator_output) - discriminator_output\n",
    "        #print(\"second_probs shape: \", second_probs.shape)\n",
    "\n",
    "        # Calculate the loss\n",
    "\n",
    "        # 1) first part\n",
    "        first_loss = -(first_probs.log()).mean(0)\n",
    "        #print(first_loss.item())\n",
    "\n",
    "        second_loss = -(second_probs.log()).mean(0)\n",
    "        #print(second_loss.item())\n",
    "\n",
    "        final_disc_loss = (first_loss + second_loss) / 2\n",
    "\n",
    "        # backward pass\n",
    "        discopt.zero_grad()\n",
    "        final_disc_loss.backward()\n",
    "        discopt.step()\n",
    "\n",
    "        if (i + 1) % 100 == 0:\n",
    "            print(f'epoch {epoch + 1} / {num_epochs}, step {i + 1} / {n_total_steps}, gen_loss = {gen_loss.item():.4f}, disc_loss = {final_disc_loss.item():.4f}')\n",
    "\n",
    "        if (i + 1) % 500 == 0:\n",
    "            # Sample an image from the generator\n",
    "            discriminator.eval()    # Disable dropout\n",
    "\n",
    "            z1 = (torch.randn(1, latent_dim) * 10).to(device)\n",
    "\n",
    "            image = generator(z1)[0].cpu().view(1, -1)\n",
    "            print(image.shape)\n",
    "\n",
    "            discriminator_output = discriminator(image.to(device))\n",
    "            print(discriminator_output)\n",
    "\n",
    "            # Show the image (MNIST)\n",
    "            pixels = image.detach().reshape((28, 28))\n",
    "            plt.imshow(pixels, cmap=\"gray\")\n",
    "            plt.show()\n",
    "            "
   ]
  },
  {
   "cell_type": "code",
   "execution_count": 127,
   "metadata": {},
   "outputs": [
    {
     "name": "stdout",
     "output_type": "stream",
     "text": [
      "torch.Size([1, 3072])\n",
      "tensor([[0.0273]], device='cuda:0', grad_fn=<SigmoidBackward0>)\n"
     ]
    },
    {
     "ename": "RuntimeError",
     "evalue": "shape '[28, 28]' is invalid for input of size 3072",
     "output_type": "error",
     "traceback": [
      "\u001b[0;31m---------------------------------------------------------------------------\u001b[0m",
      "\u001b[0;31mRuntimeError\u001b[0m                              Traceback (most recent call last)",
      "Cell \u001b[0;32mIn[127], line 13\u001b[0m\n\u001b[1;32m      9\u001b[0m \u001b[38;5;28mprint\u001b[39m(discriminator_output)\n\u001b[1;32m     12\u001b[0m \u001b[38;5;66;03m# Show the image\u001b[39;00m\n\u001b[0;32m---> 13\u001b[0m pixels \u001b[38;5;241m=\u001b[39m \u001b[43mimage\u001b[49m\u001b[38;5;241;43m.\u001b[39;49m\u001b[43mdetach\u001b[49m\u001b[43m(\u001b[49m\u001b[43m)\u001b[49m\u001b[38;5;241;43m.\u001b[39;49m\u001b[43mreshape\u001b[49m\u001b[43m(\u001b[49m\u001b[43m(\u001b[49m\u001b[38;5;241;43m28\u001b[39;49m\u001b[43m,\u001b[49m\u001b[43m \u001b[49m\u001b[38;5;241;43m28\u001b[39;49m\u001b[43m)\u001b[49m\u001b[43m)\u001b[49m\n\u001b[1;32m     14\u001b[0m plt\u001b[38;5;241m.\u001b[39mimshow(pixels, cmap\u001b[38;5;241m=\u001b[39m\u001b[38;5;124m\"\u001b[39m\u001b[38;5;124mgray\u001b[39m\u001b[38;5;124m\"\u001b[39m)\n\u001b[1;32m     15\u001b[0m plt\u001b[38;5;241m.\u001b[39mshow()\n",
      "\u001b[0;31mRuntimeError\u001b[0m: shape '[28, 28]' is invalid for input of size 3072"
     ]
    }
   ],
   "source": [
    "# Sample an image from the generator (MNIST)\n",
    "z1 = (torch.randn(1, latent_dim) * 10).to(device)\n",
    "\n",
    "\n",
    "image = generator(z1)[0].cpu().view(1, -1)\n",
    "print(image.shape)\n",
    "\n",
    "discriminator_output = discriminator(image.to(device))\n",
    "print(discriminator_output)\n",
    "\n",
    "\n",
    "# Show the image\n",
    "pixels = image.detach().reshape((28, 28))\n",
    "plt.imshow(pixels, cmap=\"gray\")\n",
    "plt.show()"
   ]
  }
 ],
 "metadata": {
  "kernelspec": {
   "display_name": "Python 3.11.5 ('.venv': venv)",
   "language": "python",
   "name": "python3"
  },
  "language_info": {
   "codemirror_mode": {
    "name": "ipython",
    "version": 3
   },
   "file_extension": ".py",
   "mimetype": "text/x-python",
   "name": "python",
   "nbconvert_exporter": "python",
   "pygments_lexer": "ipython3",
   "version": "3.11.5"
  },
  "orig_nbformat": 4,
  "vscode": {
   "interpreter": {
    "hash": "21936d8d8249605b1bd92b028452d376e71d0b8f6b21960b14c087c7b7815e29"
   }
  }
 },
 "nbformat": 4,
 "nbformat_minor": 2
}
